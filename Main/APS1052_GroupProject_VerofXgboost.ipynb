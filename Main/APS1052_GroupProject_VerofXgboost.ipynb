{
 "cells": [
  {
   "cell_type": "markdown",
   "metadata": {},
   "source": [
    "### APS 1052 Final Project\n",
    "\n",
    "The focus of the team's model is going to be the seed model from the book Machine Learning and Data Science Blueprints for Finance. The model is going to be using stock data provided via the Google Drive, sub-folder > IntraDayData > TradeAndQuoteETFData. The goal of our model is to use the stock regression model provided from the book to predict the future price of an ETF. \n"
   ]
  },
  {
   "cell_type": "markdown",
   "metadata": {},
   "source": [
    "In addition to Lasso Regression model, our team processes to xgboost method to obtain better prediction accuracy"
   ]
  },
  {
   "cell_type": "code",
   "execution_count": 1,
   "metadata": {},
   "outputs": [],
   "source": [
    "# Load libraries\n",
    "import numpy as np\n",
    "import pandas as pd"
   ]
  },
  {
   "cell_type": "code",
   "execution_count": 2,
   "metadata": {},
   "outputs": [],
   "source": [
    "# Load libraries\n",
    "import numpy as np\n",
    "import pandas as pd\n",
    "import pandas_datareader.data as web\n",
    "from matplotlib import pyplot\n",
    "from pandas.plotting import scatter_matrix\n",
    "import seaborn as sns\n",
    "from sklearn.preprocessing import StandardScaler\n",
    "from sklearn.decomposition import PCA\n",
    "from sklearn.model_selection import train_test_split\n",
    "from sklearn.model_selection import KFold\n",
    "from sklearn.model_selection import cross_val_score\n",
    "from sklearn.model_selection import GridSearchCV\n",
    "\n",
    "from sklearn.linear_model import LinearRegression\n",
    "from sklearn.linear_model import Lasso\n",
    "from sklearn.linear_model import ElasticNet\n",
    "from sklearn.tree import DecisionTreeRegressor\n",
    "from sklearn.neighbors import KNeighborsRegressor\n",
    "from sklearn.svm import SVR\n",
    "from sklearn.ensemble import RandomForestRegressor\n",
    "from sklearn.ensemble import GradientBoostingRegressor\n",
    "from sklearn.ensemble import ExtraTreesRegressor\n",
    "from sklearn.ensemble import AdaBoostRegressor\n",
    "from sklearn.neural_network import MLPRegressor\n",
    "\n",
    "\n",
    "\n",
    "#Libraries for Statistical Models\n",
    "import statsmodels.api as sm\n",
    "\n",
    "#Libraries for Saving the Model\n",
    "from pickle import dump\n",
    "from pickle import load\n",
    "\n",
    "# Time series Models\n",
    "from statsmodels.tsa.arima_model import ARIMA\n",
    "#from statsmodels.tsa.statespace.sarimax import SARIMAX\n",
    "\n",
    "# Error Metrics\n",
    "from sklearn.metrics import mean_squared_error\n",
    "\n",
    "# Feature Selection\n",
    "from sklearn.feature_selection import SelectKBest\n",
    "from sklearn.feature_selection import chi2, f_regression\n",
    "\n",
    "\n",
    "#Plotting \n",
    "from pandas.plotting import scatter_matrix\n",
    "from statsmodels.graphics.tsaplots import plot_acf\n"
   ]
  },
  {
   "cell_type": "code",
   "execution_count": 3,
   "metadata": {},
   "outputs": [],
   "source": [
    "from sklearn.preprocessing import FunctionTransformer\n",
    "from scipy.stats import spearmanr\n",
    "import xgboost as xgb\n",
    "from sklearn.metrics import make_scorer\n",
    "from sklearn.pipeline import Pipeline\n",
    "from sklearn.model_selection import TimeSeriesSplit\n",
    "\n",
    "from sklearn import linear_model\n",
    "from sklearn.model_selection import GridSearchCV\n",
    "from sklearn.model_selection import RandomizedSearchCV\n",
    "import fAux\n",
    "import detrendPrice"
   ]
  },
  {
   "cell_type": "code",
   "execution_count": 4,
   "metadata": {},
   "outputs": [],
   "source": [
    "# stocks\n",
    "appl_data = pd.read_csv('AAPL.csv')\n",
    "jpm_data = pd.read_csv('JPM.csv')\n",
    "msft_data = pd.read_csv('MSFT.csv') \n",
    "amzn_data = pd.read_csv('AMZN.csv')\n",
    "\n",
    "# ETFs\n",
    "spy_data = pd.read_csv('SPY.csv')\n",
    "qqq_data = pd.read_csv('QQQ.csv')\n",
    "ief_data = pd.read_csv('IEF.csv')\n",
    "# indices \n",
    "vix_data = pd.read_csv('^VIX.csv')\n",
    "dia_data = pd.read_csv('DIA.csv')\n",
    "sp500_data = pd.read_csv('SP500.csv')\n",
    "\n",
    "# predicting stock (y-variable)\n",
    "ivv_data = pd.read_csv('IVV.csv')"
   ]
  },
  {
   "cell_type": "code",
   "execution_count": 5,
   "metadata": {},
   "outputs": [],
   "source": [
    "# function to clean the data \n",
    "# changes dates to datetime format & ensures all numbers are type float64 \n",
    "def clean_data(df): \n",
    "    cleaned_df = pd.DataFrame()\n",
    "    cleaned_df[\"Date\"] = pd.to_datetime(df.iloc[:, 0])\n",
    "    cleaned_df[[\"Open\", \"High\", \"Low\", \"Close\", \"Adj Close\", \"Volume\"]] = df[[\"Open\", \"High\", \"Low\", \"Close\", \"Adj Close\", \"Volume\"]].astype(str).astype(float)\n",
    "    return cleaned_df\n",
    " \n",
    "    \n",
    "df_list = [appl_data, jpm_data, msft_data, amzn_data, spy_data, qqq_data,\n",
    "        vix_data, dia_data, sp500_data, ivv_data]\n",
    "\n",
    "# iterates through list of all dataframes and cleans format \n",
    "for stock in df_list: \n",
    "    df = pd.DataFrame()\n",
    "    df = clean_data(stock)\n",
    "    stock = df"
   ]
  },
  {
   "cell_type": "code",
   "execution_count": 6,
   "metadata": {},
   "outputs": [],
   "source": [
    "stk_tickers = ['AAPL', 'JPM', 'MSFT','AMZN']\n",
    "etf_tickers = ['SPY', 'QQQ']\n",
    "idx_tickers = ['SP500', 'DIA','^VIX']"
   ]
  },
  {
   "cell_type": "code",
   "execution_count": 7,
   "metadata": {},
   "outputs": [],
   "source": [
    "import talib as ta\n",
    "def get_indicator(df,indicator):\n",
    "    ret_df = df\n",
    "    timeperiod = 5\n",
    "    if 'MACD' in indicator: #Moving Average Convergence Divergence\n",
    "        macd, macdsignal, macdhist = ta.MACD(df.Close.values, fastperiod=12, slowperiod=26, signalperiod=9)\n",
    "        ret_df = ret_df.join(pd.DataFrame([macd, macdsignal, macdhist]).T.rename(columns={0: \"Macddif\", 1: \"Macddem\", 2: \"Macdhist\"}))\n",
    "    if 'MFI' in indicator: \n",
    "        mfi = ta.MFI(np.reshape(df.High.values.astype('float64'),-1), \\\n",
    "            np.reshape(df.Low.values.astype('float64'),-1), np.reshape(df.Close.values.astype('float64'),-1),\\\n",
    "                 np.reshape(df.Volume.values.astype('float64'),-1), timeperiod=timeperiod)\n",
    "        ret_df = ret_df.join(pd.DataFrame([mfi]).T.rename(columns={0: \"Mfi\"}))\n",
    "    if 'SMA' in indicator: \n",
    "        sma = ta.SMA(df.Close.values)\n",
    "        ret_df = ret_df.join(pd.DataFrame([sma]).T.rename(columns={0: \"Sma\"}))\n",
    "    if 'MOM' in indicator: \n",
    "        mom = ta.MOM(df.Close.values, timeperiod=timeperiod)\n",
    "        ret_df = ret_df.join(pd.DataFrame([mom]).T.rename(columns={0: \"Mom\"}))  \n",
    "    if 'ROC' in indicator: \n",
    "        roc = ta.ROC(df.Close.values, timeperiod=timeperiod)\n",
    "        ret_df = ret_df.join(pd.DataFrame([roc]).T.rename(columns={0: \"Roc\"}))  \n",
    "    if 'RSI' in indicator: \n",
    "        rsi = ta.RSI(df.Close.values, timeperiod=timeperiod)\n",
    "        ret_df = ret_df.join(pd.DataFrame([rsi]).T.rename(columns={0: \"Rsi\"}))  \n",
    "    if 'ATR' in indicator: #Volatility Indicator   -   Average True Range\n",
    "        rsi = ta.ATR(df.High.values,df.Low.values,df.Close.values, timeperiod=timeperiod)\n",
    "        ret_df = ret_df.join(pd.DataFrame([rsi]).T.rename(columns={0: \"Atr\"}))  \n",
    "    return ret_df"
   ]
  },
  {
   "cell_type": "code",
   "execution_count": 8,
   "metadata": {},
   "outputs": [],
   "source": [
    "#### TECHNICAL INDICATOR ########################################################################################################### \n",
    "#### LAGS \n",
    "\n",
    "# create function to calculate lags based on return period (value can be changed)\n",
    "return_period = 5\n",
    "\n",
    "def calc_general_lag(df):\n",
    "    temp = pd.DataFrame(np.log(df[\"Adj Close\"]).diff(return_period).shift(-return_period))\n",
    "    return temp\n",
    "\n",
    "# iterate through entire list except for ivv_data \n",
    "appended_data = []\n",
    "for stock in df_list:\n",
    "    temp = calc_general_lag(stock)\n",
    "    appended_data.append(temp)\n",
    "\n",
    "\n",
    "dataset = pd.DataFrame()\n",
    "dataset = pd.concat(appended_data, axis=1)\n",
    "col_names = [\"AAPL\", \"JPM\", \"MSFT\", \"AMZN\", \"SPY\", \"QQQ\", \"VIX\", \"DIA\", \"SP500\", \"IVV_pred\"]\n",
    "dataset.columns = col_names\n",
    "\n",
    "\n",
    "# calculate lags specifically for the y-variable (IVV) - lags are in multiples of 3 \n",
    "ivv_lags = pd.concat([np.log(ivv_data[\"Adj Close\"]).diff(i) for i in [return_period, return_period*3, return_period*6, return_period*10]], axis=1)\n",
    "ivv_lags.columns = [\"IVV_\" + str(return_period), \"IVV_\" + str(return_period*3), \"IVV_\" + str(return_period*6), \"IVV_\" + str(return_period*10)]\n",
    "\n",
    "# full dataset with all X and Y variables \n",
    "full_data = pd.concat([dataset, ivv_lags], axis=1).dropna().iloc[::return_period, :]\n",
    "\n",
    "# data description \n",
    "data_descrip = full_data.describe()\n",
    "\n",
    "\n",
    "# set the X and Y variables \n",
    "CopyX = full_data[[\"IVV_pred\"]].copy()\n",
    "Y = full_data[[\"IVV_pred\"]].reset_index(drop= True)\n",
    "X = full_data.loc[:, full_data.columns != 'IVV_pred'].reset_index(drop= True)"
   ]
  },
  {
   "cell_type": "code",
   "execution_count": 9,
   "metadata": {},
   "outputs": [],
   "source": [
    "# calculate mfi using yahoo data\n",
    "p1=pd.DataFrame(np.log(spy_data['Adj Close']))\n",
    "p2=pd.DataFrame(np.log(ief_data['Adj Close']))\n",
    "mfi=(p1.subtract(p2).dropna())\n",
    "mfi=mfi.rolling(20).mean()\n",
    "mfi.columns = ['Mfi']\n",
    "X = X.join(mfi)"
   ]
  },
  {
   "cell_type": "code",
   "execution_count": 10,
   "metadata": {},
   "outputs": [],
   "source": [
    "ivv = get_indicator(ivv_data, ['SMA','RSI','ROC','MOM','ATR'])\n",
    "X = X.join(ivv.iloc[:,-5:])\n",
    "X = X.fillna(X.mean())\n",
    "x_train, x_test, y_train, y_test = train_test_split(X, Y, test_size=0.5, random_state=0)"
   ]
  },
  {
   "cell_type": "code",
   "execution_count": 11,
   "metadata": {},
   "outputs": [
    {
     "name": "stdout",
     "output_type": "stream",
     "text": [
      "Parameter grid: {'xgb__n_estimators': [50, 100], 'xgb__max_depth': [1, 3, 6, 50], 'xgb__learning_rate': [0.1, 0.3, 0.8], 'xgb__objective': ['reg:squarederror'], 'xgb__booster': ['gbtree', 'gblinear', 'dart'], 'xgb__gamma': [0, 1, 20], 'xgb__base_score': [0.2, 0.5, 0.7], 'xgb__subsample': [0.2, 0.5, 1], 'xgb__sampling_method': ['uniform', 'gradient_based'], 'xgb__tree_method': ['auto', 'exact', 'approx', 'hist'], 'xgb__min_child_weight': [0, 1, 5, 10], 'xgb__max_delta_step': [0, 1, 20, 50], 'PCA__n_components': [1, 2]}\n"
     ]
    }
   ],
   "source": [
    "pipe = Pipeline([(\"scaler\", StandardScaler()), (\"PCA\", PCA()), ('xgb', xgb.XGBRegressor(verbosity=0))])\n",
    "\n",
    "# Parameters for GridSearch\n",
    "n_estimators  = [50, 100]\n",
    "max_depth = [1, 3, 6, 50]\n",
    "learning_rate = [0.1, 0.3, 0.8]\n",
    "objective = ['reg:squarederror']\n",
    "booster = ['gbtree', 'gblinear', 'dart']\n",
    "gamma = [0, 1, 20]\n",
    "base_score = [0.2, 0.5 ,0.7]\n",
    "subsample = [0.2, 0.5, 1]\n",
    "sampling_method = ['uniform', 'gradient_based']\n",
    "tree_method = ['auto', 'exact', 'approx', 'hist']\n",
    "min_child_weight = [0, 1, 5, 10]\n",
    "max_delta_step = [0, 1, 20, 50]\n",
    "n_components = [1, 2]\n",
    "\n",
    "# parameter grid \n",
    "para_grid = {'xgb__n_estimators': n_estimators,\n",
    "            'xgb__max_depth': max_depth,\n",
    "            'xgb__learning_rate': learning_rate,\n",
    "            'xgb__objective': objective,\n",
    "            'xgb__booster': booster,\n",
    "            'xgb__gamma': gamma,\n",
    "            'xgb__base_score': base_score,\n",
    "            'xgb__subsample': subsample,\n",
    "            'xgb__sampling_method': sampling_method,\n",
    "            'xgb__tree_method': tree_method,\n",
    "            'xgb__min_child_weight': min_child_weight,\n",
    "            'xgb__max_delta_step': max_delta_step,\n",
    "            'PCA__n_components': n_components\n",
    "            }\n",
    "\n",
    "print('Parameter grid: {}' .format(para_grid))"
   ]
  },
  {
   "cell_type": "code",
   "execution_count": 12,
   "metadata": {},
   "outputs": [
    {
     "name": "stdout",
     "output_type": "stream",
     "text": [
      "Best parameters: {'xgb__tree_method': 'hist', 'xgb__subsample': 0.5, 'xgb__sampling_method': 'uniform', 'xgb__objective': 'reg:squarederror', 'xgb__n_estimators': 100, 'xgb__min_child_weight': 0, 'xgb__max_depth': 3, 'xgb__max_delta_step': 0, 'xgb__learning_rate': 0.1, 'xgb__gamma': 1, 'xgb__booster': 'gblinear', 'xgb__base_score': 0.2, 'PCA__n_components': 2}\n",
      "rso best score:  0.9352639410451484\n"
     ]
    }
   ],
   "source": [
    "from sklearn.metrics import r2_score\n",
    "np.random.seed(2)\n",
    "#Fit the randomized search object with Xtrain and ytrain.ravel()\n",
    "rso = RandomizedSearchCV(pipe,\n",
    "                         para_grid,\n",
    "                         n_iter= 10,\n",
    "                         random_state = 20,\n",
    "                         scoring = make_scorer(r2_score, greater_is_better=True),\n",
    "                         )\n",
    "\n",
    "# Fit the model to find the best hyperparameter values\n",
    "rso.fit(x_train, y_train)\n",
    "\n",
    "print('Best parameters:', rso.best_params_)\n",
    "print(\"rso best score: \", rso.best_score_) "
   ]
  },
  {
   "cell_type": "code",
   "execution_count": 13,
   "metadata": {},
   "outputs": [],
   "source": [
    "best_xgb = xgb.XGBRegressor(tree_method='hist', subsample=0.5, sampling_method='uniform',\n",
    "                            objective='reg:squarederror', n_estimators=100,\n",
    "                            min_child_weight=0, max_depth=3, max_delta_step=0,\n",
    "                            learning_rate=0.1, gamma=1, booster='gblinear',\n",
    "                            base_score=0.2)"
   ]
  },
  {
   "cell_type": "code",
   "execution_count": 14,
   "metadata": {},
   "outputs": [
    {
     "data": {
      "text/plain": [
       "XGBRegressor(base_score=0.2, booster='gblinear', colsample_bylevel=None,\n",
       "             colsample_bynode=None, colsample_bytree=None,\n",
       "             enable_categorical=False, gamma=1, gpu_id=-1, importance_type=None,\n",
       "             interaction_constraints=None, learning_rate=0.1, max_delta_step=0,\n",
       "             max_depth=3, min_child_weight=0, missing=nan,\n",
       "             monotone_constraints=None, n_estimators=100, n_jobs=6,\n",
       "             num_parallel_tree=None, predictor=None, random_state=0,\n",
       "             reg_alpha=0, reg_lambda=0, sampling_method='uniform',\n",
       "             scale_pos_weight=1, subsample=0.5, tree_method='hist',\n",
       "             validate_parameters=1, verbosity=None)"
      ]
     },
     "execution_count": 14,
     "metadata": {},
     "output_type": "execute_result"
    }
   ],
   "source": [
    "scaler = StandardScaler()\n",
    "scaler.fit(x_train)\n",
    "X_train = scaler.transform(x_train)\n",
    "X_test = scaler.transform(x_test)\n",
    "\n",
    "# PCA the features\n",
    "pca = PCA(n_components=2)\n",
    "pca.fit(x_train)\n",
    "X_train = pca.transform(x_train)\n",
    "X_test = pca.transform(x_test)\n",
    "\n",
    "best_xgb.fit(x_train, y_train)"
   ]
  },
  {
   "cell_type": "code",
   "execution_count": 15,
   "metadata": {},
   "outputs": [
    {
     "data": {
      "image/png": "[encoded data removed]",
      "text/plain": [
       "<Figure size 432x288 with 1 Axes>"
      ]
     },
     "metadata": {
      "needs_background": "light"
     },
     "output_type": "display_data"
    }
   ],
   "source": [
    "true_y = y_test.values.ravel()\n",
    "pred_y = best_xgb.predict(x_test)\n",
    "\n",
    "from matplotlib import pyplot\n",
    "pyplot.plot(true_y, label='true_y')\n",
    "pyplot.plot(pred_y, label='pred_y')\n",
    "pyplot.legend()\n",
    "pyplot.show()"
   ]
  },
  {
   "cell_type": "code",
   "execution_count": 16,
   "metadata": {},
   "outputs": [],
   "source": [
    "df_ret = ivv_data.iloc[CopyX.index.values]['Adj Close'].pct_change(periods=1).fillna(0)\n",
    "df_ret1 = df_ret.reset_index(drop= True)[:x_train.shape[0],]\n",
    "df_ret2 = df_ret.reset_index(drop= True)[x_train.shape[0]:,]"
   ]
  },
  {
   "cell_type": "code",
   "execution_count": 17,
   "metadata": {},
   "outputs": [
    {
     "name": "stdout",
     "output_type": "stream",
     "text": [
      "In-sample: CAGR=0.063852 Sharpe ratio=0.424616 maxDD=-0.407317 maxDDD=240 Calmar ratio=0.156762 Rho=0.846102 PVal=2.95501e-133\n",
      "\n"
     ]
    }
   ],
   "source": [
    "positions = np.where(best_xgb.predict(x_train)> 0,1,-1 ) \n",
    "dailyRet = pd.Series(positions).shift(1).fillna(0).values * df_ret1\n",
    "dailyRet = dailyRet.fillna(0)\n",
    "cumret = np.array(np.cumprod(dailyRet + 1) - 1)\n",
    "\n",
    "rho, pval = spearmanr(y_test,best_xgb.predict(x_test)) #spearman's rank correlation: very small but significant\n",
    "\n",
    "cagr = (1 + cumret[-1]) ** ((253/5) / len(cumret)) - 1\n",
    "maxDD, maxDDD = fAux.calculateMaxDD(cumret)\n",
    "ratio = ((253/5) ** (1.0/2.0)) * np.mean(dailyRet) / np.std(dailyRet)\n",
    "print (('In-sample: CAGR={:0.6} Sharpe ratio={:0.6} maxDD={:0.6} maxDDD={:d} Calmar ratio={:0.6} Rho={:0.6} PVal={:0.6}\\n'\\\n",
    "    ).format(cagr, ratio, maxDD, maxDDD.astype(int), -cagr/maxDD, rho, pval))\n"
   ]
  },
  {
   "cell_type": "code",
   "execution_count": 18,
   "metadata": {},
   "outputs": [
    {
     "name": "stdout",
     "output_type": "stream",
     "text": [
      "Out-of-sample: CAGR=-0.102242 Sharpe ratio=-0.637432 maxDD=-0.66224 maxDDD=358 Calmar ratio=-0.154388  Rho=0.846102 PVal=2.95501e-133\n",
      "\n"
     ]
    }
   ],
   "source": [
    "positions2 = np.where(best_xgb.predict(x_test)> 0,1,-1 )\n",
    "dailyRet2 = pd.Series(positions2).shift(1).fillna(0).values * df_ret2\n",
    "dailyRet2 = dailyRet2.fillna(0)\n",
    "cumret2 = np.array(np.cumprod(dailyRet2 + 1) - 1)\n",
    "\n",
    "rho, pval = spearmanr(y_test,best_xgb.predict(x_test)) #spearman's rank correlation: very small but significant\n",
    "\n",
    "cagr = (1 + cumret2[-1]) ** ((253/5) / len(cumret2)) - 1\n",
    "maxDD, maxDDD = fAux.calculateMaxDD(cumret2)\n",
    "ratio = ((253/5) ** (1.0/2.0)) * np.mean(dailyRet2) / np.std(dailyRet2)\n",
    "print (('Out-of-sample: CAGR={:0.6} Sharpe ratio={:0.6} maxDD={:0.6} maxDDD={:d} Calmar ratio={:0.6}  Rho={:0.6} PVal={:0.6}\\n'\\\n",
    ").format(cagr, ratio, maxDD, maxDDD.astype(int), -cagr/maxDD, rho, pval))\n"
   ]
  },
  {
   "cell_type": "code",
   "execution_count": 19,
   "metadata": {},
   "outputs": [
    {
     "data": {
      "text/plain": [
       "[<matplotlib.lines.Line2D at 0x216ba092dc0>]"
      ]
     },
     "execution_count": 19,
     "metadata": {},
     "output_type": "execute_result"
    },
    {
     "data": {
      "image/png": "[encoded data removed]",
      "text/plain": [
       "<Figure size 432x288 with 1 Axes>"
      ]
     },
     "metadata": {
      "needs_background": "light"
     },
     "output_type": "display_data"
    }
   ],
   "source": [
    "positionsytrain = np.where(y_train.values.ravel() > 0,1,-1 )\n",
    "dailyRetytrain = pd.Series(positionsytrain).shift(1).fillna(0).values * df_ret1\n",
    "dailyRetytrain = dailyRetytrain.fillna(0)\n",
    "cumretytrain = np.array(np.cumprod(dailyRetytrain + 1) - 1)\n",
    "\n",
    "\n",
    "\n",
    "positionsytest = np.where(y_test.values.ravel() > 0,1,-1 )\n",
    "dailyRetytest = pd.Series(positionsytest).shift(1).fillna(0).values * df_ret2\n",
    "dailyRetytest = dailyRetytest.fillna(0)\n",
    "cumretytest = np.array(np.cumprod(dailyRetytest + 1) - 1)\n",
    "\n",
    "\n",
    "\n",
    "dates = df.iloc[CopyX.index.values]['Date']\n",
    "dates= dates.reset_index(drop= True)[:x_train.shape[0],]\n",
    "pyplot.figure(1)\n",
    "pyplot.plot(dates, cumretytrain ,'r')\n",
    "pyplot.plot(dates, cumret,'b')\n",
    "pyplot.title('Cross-validated RidgeRegression on currency: train set')\n",
    "pyplot.ylabel('Cumulative Returns')\n",
    "pyplot.xlabel('Date')\n",
    "dates = df.iloc[CopyX.index.values]['Date']\n",
    "dates= dates.reset_index(drop= True)[x_train.shape[0]:,]\n",
    "pyplot.plot(dates, cumretytest ,'r')\n",
    "pyplot.plot(dates, cumret2,'b')\n",
    "\n"
   ]
  },
  {
   "cell_type": "code",
   "execution_count": 20,
   "metadata": {},
   "outputs": [
    {
     "name": "stdout",
     "output_type": "stream",
     "text": [
      "average return 0.000546\n",
      "[-0.01150837  0.01780078]\n",
      "Do not reject Ho = The population distribution of rule returns has an expected value of zero or less (because p_value is not small enough)\n",
      "p_value:\n",
      "0.41759999999999997\n"
     ]
    },
    {
     "data": {
      "image/png": "[encoded data removed]",
      "text/plain": [
       "<Figure size 432x288 with 1 Axes>"
      ]
     },
     "metadata": {
      "needs_background": "light"
     },
     "output_type": "display_data"
    }
   ],
   "source": [
    "import WhiteRealityCheckFor1\n",
    "#white reality check\n",
    "\n",
    "new_close=ivv_data.iloc[CopyX.index.values]['Adj Close'].reset_index(drop= True)[(x_train.shape[0]):,]\n",
    "detrended_close = detrendPrice.detrendPrice(new_close)\n",
    "detrended_ret1 = detrended_close.pct_change(periods=1).fillna(0)\n",
    "detrended_syst_rets = detrended_ret1 * pd.Series(positions2).shift(1).fillna(0)\n",
    "WhiteRealityCheckFor1.bootstrap(detrended_syst_rets)\n",
    "pyplot.show()\n"
   ]
  },
  {
   "cell_type": "code",
   "execution_count": 21,
   "metadata": {},
   "outputs": [
    {
     "name": "stdout",
     "output_type": "stream",
     "text": [
      "0.00012389815815181735 0.0001341770340652076\n"
     ]
    }
   ],
   "source": [
    "# Train error\n",
    "train_result = mean_squared_error(best_xgb.predict(x_train), y_train)\n",
    "test_result = mean_squared_error(best_xgb.predict(x_test), y_test)\n",
    "\n",
    "#train_perc = \"{:.0%}\".format(train_result)\n",
    "#test_perc = \"{:.0%}\".format(test_result)\n",
    "#print(train_perc, test_perc)\n",
    "print(train_result, test_result)\n"
   ]
  }
 ],
 "metadata": {
  "interpreter": {
   "hash": "56fecb26f35ad399d6fb3c223fb988289bbfbf62a99aeb18ada3481a4baa4e74"
  },
  "kernelspec": {
   "display_name": "Python 3 (ipykernel)",
   "language": "python",
   "name": "python3"
  },
  "language_info": {
   "codemirror_mode": {
    "name": "ipython",
    "version": 3
   },
   "file_extension": ".py",
   "mimetype": "text/x-python",
   "name": "python",
   "nbconvert_exporter": "python",
   "pygments_lexer": "ipython3",
   "version": "3.9.9"
  }
 },
 "nbformat": 4,
 "nbformat_minor": 2
}
