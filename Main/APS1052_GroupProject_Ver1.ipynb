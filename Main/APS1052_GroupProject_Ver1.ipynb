{
 "cells": [
  {
   "cell_type": "markdown",
   "metadata": {},
   "source": [
    "### APS 1052 Final Project\n",
    "\n",
    "The focus of the team's model is going to be the seed model from the book Machine Learning and Data Science Blueprints for Finance. The model is going to be using stock data provided via the Google Drive, sub-folder > IntraDayData > TradeAndQuoteETFData. The goal of our model is to use the stock regression model provided from the book to predict the future price of an ETF. \n"
   ]
  },
  {
   "cell_type": "markdown",
   "metadata": {},
   "source": [
    "For this case study, the independent variables used are the following potentially correlated assets:\n",
    "\n",
    "Stocks: Apple, Meta, Microsoft, Tesla\n",
    "\n",
    "ETFs: QQQ, SPY\n",
    "\n",
    "Indices: S&P500, Dow Jones, VIX"
   ]
  },
  {
   "cell_type": "code",
   "execution_count": 37,
   "metadata": {},
   "outputs": [],
   "source": [
    "# Load libraries\n",
    "import numpy as np\n",
    "import pandas as pd"
   ]
  },
  {
   "cell_type": "markdown",
   "metadata": {},
   "source": [
    "## Note -  Nov 25 meeting:\n",
    "Features: SMA, RSI,ROC,MOM,lags\n",
    "\n",
    "Technical Indicators: Talib (metioned above) VIX, historical(https://www.cboe.com/tradable_products/vix/vix_historical_data/), Alternative Money Flow, Put-Call Parity\n",
    "\n",
    "Input processing: smoothing(exp)\n",
    "\n",
    "Metrics: same as homework\n",
    "\n"
   ]
  },
  {
   "cell_type": "code",
   "execution_count": 38,
   "metadata": {},
   "outputs": [],
   "source": [
    "import sklearn\n",
    "import PIL"
   ]
  },
  {
   "cell_type": "code",
   "execution_count": 2,
   "metadata": {},
   "outputs": [],
   "source": [
    "# Load libraries\n",
    "import numpy as np\n",
    "import pandas as pd\n",
    "import pandas_datareader.data as web\n",
    "from matplotlib import pyplot\n",
    "from pandas.plotting import scatter_matrix\n",
    "import seaborn as sns\n",
    "from sklearn.preprocessing import StandardScaler\n",
    "\n",
    "from sklearn.model_selection import train_test_split\n",
    "from sklearn.model_selection import KFold\n",
    "from sklearn.model_selection import cross_val_score\n",
    "from sklearn.model_selection import GridSearchCV\n",
    "\n",
    "from sklearn.linear_model import LinearRegression\n",
    "from sklearn.linear_model import Lasso\n",
    "from sklearn.linear_model import ElasticNet\n",
    "from sklearn.tree import DecisionTreeRegressor\n",
    "from sklearn.neighbors import KNeighborsRegressor\n",
    "from sklearn.svm import SVR\n",
    "from sklearn.ensemble import RandomForestRegressor\n",
    "from sklearn.ensemble import GradientBoostingRegressor\n",
    "from sklearn.ensemble import ExtraTreesRegressor\n",
    "from sklearn.ensemble import AdaBoostRegressor\n",
    "from sklearn.neural_network import MLPRegressor\n",
    "\n",
    "#Libraries for Deep Learning Models\n",
    "from keras.models import Sequential\n",
    "from keras.layers import Dense\n",
    "from tensorflow.keras.optimizers import SGD\n",
    "from keras.layers import LSTM\n",
    "from keras.wrappers.scikit_learn import KerasRegressor\n",
    "\n",
    "#Libraries for Statistical Models\n",
    "import statsmodels.api as sm\n",
    "\n",
    "#Libraries for Saving the Model\n",
    "from pickle import dump\n",
    "from pickle import load\n",
    "\n",
    "# Time series Models\n",
    "from statsmodels.tsa.arima_model import ARIMA\n",
    "#from statsmodels.tsa.statespace.sarimax import SARIMAX\n",
    "\n",
    "# Error Metrics\n",
    "from sklearn.metrics import mean_squared_error\n",
    "\n",
    "# Feature Selection\n",
    "from sklearn.feature_selection import SelectKBest\n",
    "from sklearn.feature_selection import chi2, f_regression\n",
    "\n",
    "\n",
    "#Plotting \n",
    "from pandas.plotting import scatter_matrix\n",
    "from statsmodels.graphics.tsaplots import plot_acf\n"
   ]
  },
  {
   "cell_type": "code",
   "execution_count": 62,
   "metadata": {},
   "outputs": [],
   "source": [
    "apple_data = pd.read_csv('AAPL.csv')\n",
    "fb_data = pd.read_csv('FB.csv')\n",
    "msft_data = pd.read_csv('MSFT.csv')\n",
    "spy_data = pd.read_csv('SPY.csv')\n",
    "tsla_data = pd.read_csv('TSLA.csv')\n",
    "qqq_data = pd.read_csv('QQQ.csv')\n",
    "vix_data = pd.read_csv('^VIX.csv')\n",
    "djia_data = pd.read_csv('DJIA.csv')\n",
    "sp500_data = pd.read_csv('SP500.csv')\n"
   ]
  },
  {
   "cell_type": "code",
   "execution_count": 17,
   "metadata": {},
   "outputs": [],
   "source": [
    "import talib as ta\n",
    "stk_tickers = ['AAPL', 'FB', 'MSFT','TSLA']\n",
    "etf_tickers = ['SPY', 'QQQ']\n",
    "idx_tickers = ['SP500', 'DJIA', 'VIX']"
   ]
  },
  {
   "cell_type": "code",
   "execution_count": 75,
   "metadata": {},
   "outputs": [],
   "source": [
    "macd, macdsignal, macdhist = ta.MACD(tsla_data.Close.values, fastperiod=12, slowperiod=26, signalperiod=9)"
   ]
  },
  {
   "cell_type": "code",
   "execution_count": 42,
   "metadata": {},
   "outputs": [],
   "source": [
    "def get_indicator(df,indicator):\n",
    "    if 'MACD' in indicator: \n",
    "        macd, macdsignal, macdhist = ta.MACD(df.Close.values, fastperiod=12, slowperiod=26, signalperiod=9)\n",
    "    if 'MFI' in indicator: \n",
    "        mfi = ta.MFI(np.reshape(tsla_data.High.values.astype('float64'),-1), \\\n",
    "            np.reshape(tsla_data.Low.values.astype('float64'),-1), np.reshape(tsla_data.Close.values.astype('float64'),-1),\\\n",
    "                 np.reshape(tsla_data.Volume.values.astype('float64'),-1), timeperiod=14)\n",
    "    if 'MFI' in indicator: \n",
    "        mfi = ta.MFI(float(df.High.values), float(df.Low.values), float(df.Close.values), float(df.Volume.values), timeperiod=14)\n",
    "    \n",
    "    return mfi, macd, macdsignal, macdhist"
   ]
  },
  {
   "cell_type": "code",
   "execution_count": null,
   "metadata": {},
   "outputs": [],
   "source": [
    "def get_indicator(df, indicator):\n",
    "        ret_df = df\n",
    "        if 'MACD' in indicator:\n",
    "            macd, macdsignal, macdhist = ta.MACD(df.close.values, fastperiod=12, slowperiod=26, signalperiod=9)\n",
    "            ret_df = KlineData._merge_dataframe(pd.DataFrame([macd, macdsignal, macdhist]).T.rename(columns={0: \"macddif\", 1: \"macddem\", 2: \"macdhist\"}), ret_df)\n",
    "            ret_df = KlineData._merge_dataframe(line_intersections(ret_df, columns=['macddif', 'macddem']), ret_df)\n",
    "        if 'MFI' in indicator:\n",
    "            real = ta.MFI(df.high.values, df.low.values, df.close.values, df.volume.values, timeperiod=14)\n",
    "            ret_df = KlineData._merge_dataframe(pd.DataFrame([real]).T.rename(columns={0: \"mfi\"}), ret_df)\n",
    "        if 'ATR' in indicator:\n",
    "            real = ta.NATR(df.high.values, df.low.values, df.close.values, timeperiod=14)\n",
    "            ret_df = KlineData._merge_dataframe(pd.DataFrame([real]).T.rename(columns={0: \"atr\"}), ret_df)\n",
    "        if 'ROCR' in indicator:\n",
    "            real = ta.ROCR(df.close.values, timeperiod=10)\n",
    "            ret_df = KlineData._merge_dataframe(pd.DataFrame([real]).T.rename(columns={0: \"rocr\"}), ret_df)\n",
    "        ret_df['date'] = pd.to_datetime(ret_df['date'], format='%Y-%m-%d')\n",
    "        return ret_df"
   ]
  }
 ],
 "metadata": {
  "interpreter": {
   "hash": "56fecb26f35ad399d6fb3c223fb988289bbfbf62a99aeb18ada3481a4baa4e74"
  },
  "kernelspec": {
   "display_name": "Python 3.9.9 64-bit (windows store)",
   "language": "python",
   "name": "python3"
  },
  "language_info": {
   "codemirror_mode": {
    "name": "ipython",
    "version": 3
   },
   "file_extension": ".py",
   "mimetype": "text/x-python",
   "name": "python",
   "nbconvert_exporter": "python",
   "pygments_lexer": "ipython3",
   "version": "3.9.9"
  },
  "orig_nbformat": 4
 },
 "nbformat": 4,
 "nbformat_minor": 2
}
